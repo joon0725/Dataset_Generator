{
  "nbformat": 4,
  "nbformat_minor": 0,
  "metadata": {
    "colab": {
      "name": "Untitled1.ipynb",
      "provenance": [],
      "authorship_tag": "ABX9TyO73XAj4XKvCyfnDeRIZmO/",
      "include_colab_link": true
    },
    "kernelspec": {
      "name": "python3",
      "display_name": "Python 3"
    },
    "language_info": {
      "name": "python"
    }
  },
  "cells": [
    {
      "cell_type": "markdown",
      "metadata": {
        "id": "view-in-github",
        "colab_type": "text"
      },
      "source": [
        "<a href=\"https://colab.research.google.com/github/joon0725/Dataset_Generator/blob/main/just_mnist.ipynb\" target=\"_parent\"><img src=\"https://colab.research.google.com/assets/colab-badge.svg\" alt=\"Open In Colab\"/></a>"
      ]
    },
    {
      "cell_type": "code",
      "execution_count": 8,
      "metadata": {
        "id": "OzPCMjW6i3vH"
      },
      "outputs": [],
      "source": [
        "import tensorflow as tf\n",
        "from tensorflow.keras.datasets import mnist\n",
        "from tensorflow.keras import layers, models"
      ]
    },
    {
      "cell_type": "code",
      "source": [
        "(train_data, train_label), (test_data, test_label) = mnist.load_data()\n",
        "train_data, test_data = train_data/255.0, test_data/255.0"
      ],
      "metadata": {
        "id": "26K53q0WjIjq"
      },
      "execution_count": 9,
      "outputs": []
    },
    {
      "cell_type": "code",
      "source": [
        "model = models.Sequential([\n",
        "                           layers.Conv2D(64, kernel_size=3, activation='relu', input_shape=(28, 28, 1)),\n",
        "                           layers.MaxPool2D((2, 2)),\n",
        "                           layers.Conv2D(128, kernel_size=3, activation='relu'),\n",
        "                           layers.MaxPool2D((2, 2)),\n",
        "                           layers.Conv2D(64, kernel_size=3, activation='relu'),\n",
        "                           layers.Flatten(),\n",
        "                           layers.Dense(64, activation='relu'),\n",
        "                           layers.Dense(10, activation='softmax')\n",
        "])"
      ],
      "metadata": {
        "id": "rT27T54Dj02w"
      },
      "execution_count": 10,
      "outputs": []
    },
    {
      "cell_type": "code",
      "source": [
        "model.compile(optimizer='adam', loss='sparse_categorical_crossentropy', metrics=['acc'])"
      ],
      "metadata": {
        "id": "GV6wBBDNk6Ey"
      },
      "execution_count": 11,
      "outputs": []
    },
    {
      "cell_type": "code",
      "source": [
        "model.fit(train_data[:100], train_label[:100], batch_size=128, epochs=20, validation_split=0.2)"
      ],
      "metadata": {
        "colab": {
          "base_uri": "https://localhost:8080/"
        },
        "id": "EBlw1QIclFcZ",
        "outputId": "9042fd37-9f16-4386-9dfc-afea1f38c0b2"
      },
      "execution_count": 12,
      "outputs": [
        {
          "output_type": "stream",
          "name": "stdout",
          "text": [
            "Epoch 1/20\n",
            "1/1 [==============================] - 1s 876ms/step - loss: 2.2938 - acc: 0.1500 - val_loss: 2.2305 - val_acc: 0.2000\n",
            "Epoch 2/20\n",
            "1/1 [==============================] - 0s 193ms/step - loss: 2.2246 - acc: 0.1750 - val_loss: 2.1635 - val_acc: 0.2500\n",
            "Epoch 3/20\n",
            "1/1 [==============================] - 0s 206ms/step - loss: 2.1484 - acc: 0.3500 - val_loss: 2.0885 - val_acc: 0.2500\n",
            "Epoch 4/20\n",
            "1/1 [==============================] - 0s 205ms/step - loss: 2.0561 - acc: 0.4250 - val_loss: 2.0122 - val_acc: 0.3000\n",
            "Epoch 5/20\n",
            "1/1 [==============================] - 0s 196ms/step - loss: 1.9517 - acc: 0.3750 - val_loss: 1.9220 - val_acc: 0.3000\n",
            "Epoch 6/20\n",
            "1/1 [==============================] - 0s 201ms/step - loss: 1.8332 - acc: 0.4500 - val_loss: 1.7856 - val_acc: 0.3500\n",
            "Epoch 7/20\n",
            "1/1 [==============================] - 0s 213ms/step - loss: 1.6892 - acc: 0.5500 - val_loss: 1.6258 - val_acc: 0.4000\n",
            "Epoch 8/20\n",
            "1/1 [==============================] - 0s 202ms/step - loss: 1.5268 - acc: 0.6250 - val_loss: 1.4577 - val_acc: 0.6000\n",
            "Epoch 9/20\n",
            "1/1 [==============================] - 0s 201ms/step - loss: 1.3610 - acc: 0.6250 - val_loss: 1.2967 - val_acc: 0.7000\n",
            "Epoch 10/20\n",
            "1/1 [==============================] - 0s 212ms/step - loss: 1.1880 - acc: 0.6625 - val_loss: 1.1365 - val_acc: 0.7500\n",
            "Epoch 11/20\n",
            "1/1 [==============================] - 0s 202ms/step - loss: 1.0125 - acc: 0.7500 - val_loss: 0.9737 - val_acc: 0.8000\n",
            "Epoch 12/20\n",
            "1/1 [==============================] - 0s 213ms/step - loss: 0.8457 - acc: 0.8250 - val_loss: 0.8154 - val_acc: 0.9000\n",
            "Epoch 13/20\n",
            "1/1 [==============================] - 0s 202ms/step - loss: 0.6850 - acc: 0.8750 - val_loss: 0.7092 - val_acc: 0.9000\n",
            "Epoch 14/20\n",
            "1/1 [==============================] - 0s 200ms/step - loss: 0.5555 - acc: 0.9250 - val_loss: 0.6264 - val_acc: 0.9500\n",
            "Epoch 15/20\n",
            "1/1 [==============================] - 0s 209ms/step - loss: 0.4437 - acc: 0.9250 - val_loss: 0.5426 - val_acc: 0.9500\n",
            "Epoch 16/20\n",
            "1/1 [==============================] - 0s 215ms/step - loss: 0.3487 - acc: 0.9250 - val_loss: 0.5036 - val_acc: 0.9500\n",
            "Epoch 17/20\n",
            "1/1 [==============================] - 0s 232ms/step - loss: 0.2712 - acc: 0.9625 - val_loss: 0.5278 - val_acc: 0.9500\n",
            "Epoch 18/20\n",
            "1/1 [==============================] - 0s 224ms/step - loss: 0.2056 - acc: 0.9750 - val_loss: 0.5194 - val_acc: 0.9500\n",
            "Epoch 19/20\n",
            "1/1 [==============================] - 0s 221ms/step - loss: 0.1523 - acc: 0.9750 - val_loss: 0.5210 - val_acc: 0.9500\n",
            "Epoch 20/20\n",
            "1/1 [==============================] - 0s 269ms/step - loss: 0.1130 - acc: 1.0000 - val_loss: 0.4618 - val_acc: 0.9500\n"
          ]
        },
        {
          "output_type": "execute_result",
          "data": {
            "text/plain": [
              "<keras.callbacks.History at 0x7fa4a3176810>"
            ]
          },
          "metadata": {},
          "execution_count": 12
        }
      ]
    },
    {
      "cell_type": "code",
      "source": [
        "model.evaluate(test_data, test_label)"
      ],
      "metadata": {
        "colab": {
          "base_uri": "https://localhost:8080/"
        },
        "id": "yp2cTV3elP3S",
        "outputId": "ddf042c8-b3ff-4232-e702-d00347c3db3f"
      },
      "execution_count": 13,
      "outputs": [
        {
          "output_type": "stream",
          "name": "stdout",
          "text": [
            "313/313 [==============================] - 7s 21ms/step - loss: 1.2274 - acc: 0.7031\n"
          ]
        },
        {
          "output_type": "execute_result",
          "data": {
            "text/plain": [
              "[1.2274118661880493, 0.7031000256538391]"
            ]
          },
          "metadata": {},
          "execution_count": 13
        }
      ]
    },
    {
      "cell_type": "code",
      "source": [
        ""
      ],
      "metadata": {
        "id": "XNlXnkiXlc9y"
      },
      "execution_count": null,
      "outputs": []
    }
  ]
}