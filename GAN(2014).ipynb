{
 "nbformat": 4,
 "nbformat_minor": 0,
 "metadata": {
  "colab": {
   "name": "GAN(2014).ipynb",
   "provenance": [],
   "collapsed_sections": [],
   "machine_shape": "hm"
  },
  "kernelspec": {
   "name": "python3",
   "display_name": "Python 3"
  },
  "language_info": {
   "name": "python"
  },
  "accelerator": "GPU",
  "widgets": {
   "application/vnd.jupyter.widget-state+json": {
    "cf6794fffae44af796bf05c28f53f800": {
     "model_module": "@jupyter-widgets/controls",
     "model_name": "HBoxModel",
     "model_module_version": "1.5.0",
     "state": {
      "_dom_classes": [],
      "_model_module": "@jupyter-widgets/controls",
      "_model_module_version": "1.5.0",
      "_model_name": "HBoxModel",
      "_view_count": null,
      "_view_module": "@jupyter-widgets/controls",
      "_view_module_version": "1.5.0",
      "_view_name": "HBoxView",
      "box_style": "",
      "children": [
       "IPY_MODEL_a988ced8d131451ba8aadb12b9589bb0",
       "IPY_MODEL_7e420dbd64534902acd89b447f466bef",
       "IPY_MODEL_39971858c1704695b1b94ee420c24776"
      ],
      "layout": "IPY_MODEL_a9d4aab8f2394d6ca15096dcb7d301bc"
     }
    },
    "a988ced8d131451ba8aadb12b9589bb0": {
     "model_module": "@jupyter-widgets/controls",
     "model_name": "HTMLModel",
     "model_module_version": "1.5.0",
     "state": {
      "_dom_classes": [],
      "_model_module": "@jupyter-widgets/controls",
      "_model_module_version": "1.5.0",
      "_model_name": "HTMLModel",
      "_view_count": null,
      "_view_module": "@jupyter-widgets/controls",
      "_view_module_version": "1.5.0",
      "_view_name": "HTMLView",
      "description": "",
      "description_tooltip": null,
      "layout": "IPY_MODEL_97fa514451844f0dac1dd0581655db2c",
      "placeholder": "​",
      "style": "IPY_MODEL_401879432c1e48bc90c6e7e959027944",
      "value": ""
     }
    },
    "7e420dbd64534902acd89b447f466bef": {
     "model_module": "@jupyter-widgets/controls",
     "model_name": "FloatProgressModel",
     "model_module_version": "1.5.0",
     "state": {
      "_dom_classes": [],
      "_model_module": "@jupyter-widgets/controls",
      "_model_module_version": "1.5.0",
      "_model_name": "FloatProgressModel",
      "_view_count": null,
      "_view_module": "@jupyter-widgets/controls",
      "_view_module_version": "1.5.0",
      "_view_name": "ProgressView",
      "bar_style": "success",
      "description": "",
      "description_tooltip": null,
      "layout": "IPY_MODEL_7d9ef7da566a4857a56f831094cf853a",
      "max": 9912422,
      "min": 0,
      "orientation": "horizontal",
      "style": "IPY_MODEL_ff39b443150245cc92337b3c0bf0718b",
      "value": 9912422
     }
    },
    "39971858c1704695b1b94ee420c24776": {
     "model_module": "@jupyter-widgets/controls",
     "model_name": "HTMLModel",
     "model_module_version": "1.5.0",
     "state": {
      "_dom_classes": [],
      "_model_module": "@jupyter-widgets/controls",
      "_model_module_version": "1.5.0",
      "_model_name": "HTMLModel",
      "_view_count": null,
      "_view_module": "@jupyter-widgets/controls",
      "_view_module_version": "1.5.0",
      "_view_name": "HTMLView",
      "description": "",
      "description_tooltip": null,
      "layout": "IPY_MODEL_d67b59a7b95149f9944f3684e748cb98",
      "placeholder": "​",
      "style": "IPY_MODEL_1df6e9bd904f4d09b29a16457d01f026",
      "value": " 9913344/? [00:00&lt;00:00, 71352075.72it/s]"
     }
    },
    "a9d4aab8f2394d6ca15096dcb7d301bc": {
     "model_module": "@jupyter-widgets/base",
     "model_name": "LayoutModel",
     "model_module_version": "1.2.0",
     "state": {
      "_model_module": "@jupyter-widgets/base",
      "_model_module_version": "1.2.0",
      "_model_name": "LayoutModel",
      "_view_count": null,
      "_view_module": "@jupyter-widgets/base",
      "_view_module_version": "1.2.0",
      "_view_name": "LayoutView",
      "align_content": null,
      "align_items": null,
      "align_self": null,
      "border": null,
      "bottom": null,
      "display": null,
      "flex": null,
      "flex_flow": null,
      "grid_area": null,
      "grid_auto_columns": null,
      "grid_auto_flow": null,
      "grid_auto_rows": null,
      "grid_column": null,
      "grid_gap": null,
      "grid_row": null,
      "grid_template_areas": null,
      "grid_template_columns": null,
      "grid_template_rows": null,
      "height": null,
      "justify_content": null,
      "justify_items": null,
      "left": null,
      "margin": null,
      "max_height": null,
      "max_width": null,
      "min_height": null,
      "min_width": null,
      "object_fit": null,
      "object_position": null,
      "order": null,
      "overflow": null,
      "overflow_x": null,
      "overflow_y": null,
      "padding": null,
      "right": null,
      "top": null,
      "visibility": null,
      "width": null
     }
    },
    "97fa514451844f0dac1dd0581655db2c": {
     "model_module": "@jupyter-widgets/base",
     "model_name": "LayoutModel",
     "model_module_version": "1.2.0",
     "state": {
      "_model_module": "@jupyter-widgets/base",
      "_model_module_version": "1.2.0",
      "_model_name": "LayoutModel",
      "_view_count": null,
      "_view_module": "@jupyter-widgets/base",
      "_view_module_version": "1.2.0",
      "_view_name": "LayoutView",
      "align_content": null,
      "align_items": null,
      "align_self": null,
      "border": null,
      "bottom": null,
      "display": null,
      "flex": null,
      "flex_flow": null,
      "grid_area": null,
      "grid_auto_columns": null,
      "grid_auto_flow": null,
      "grid_auto_rows": null,
      "grid_column": null,
      "grid_gap": null,
      "grid_row": null,
      "grid_template_areas": null,
      "grid_template_columns": null,
      "grid_template_rows": null,
      "height": null,
      "justify_content": null,
      "justify_items": null,
      "left": null,
      "margin": null,
      "max_height": null,
      "max_width": null,
      "min_height": null,
      "min_width": null,
      "object_fit": null,
      "object_position": null,
      "order": null,
      "overflow": null,
      "overflow_x": null,
      "overflow_y": null,
      "padding": null,
      "right": null,
      "top": null,
      "visibility": null,
      "width": null
     }
    },
    "401879432c1e48bc90c6e7e959027944": {
     "model_module": "@jupyter-widgets/controls",
     "model_name": "DescriptionStyleModel",
     "model_module_version": "1.5.0",
     "state": {
      "_model_module": "@jupyter-widgets/controls",
      "_model_module_version": "1.5.0",
      "_model_name": "DescriptionStyleModel",
      "_view_count": null,
      "_view_module": "@jupyter-widgets/base",
      "_view_module_version": "1.2.0",
      "_view_name": "StyleView",
      "description_width": ""
     }
    },
    "7d9ef7da566a4857a56f831094cf853a": {
     "model_module": "@jupyter-widgets/base",
     "model_name": "LayoutModel",
     "model_module_version": "1.2.0",
     "state": {
      "_model_module": "@jupyter-widgets/base",
      "_model_module_version": "1.2.0",
      "_model_name": "LayoutModel",
      "_view_count": null,
      "_view_module": "@jupyter-widgets/base",
      "_view_module_version": "1.2.0",
      "_view_name": "LayoutView",
      "align_content": null,
      "align_items": null,
      "align_self": null,
      "border": null,
      "bottom": null,
      "display": null,
      "flex": null,
      "flex_flow": null,
      "grid_area": null,
      "grid_auto_columns": null,
      "grid_auto_flow": null,
      "grid_auto_rows": null,
      "grid_column": null,
      "grid_gap": null,
      "grid_row": null,
      "grid_template_areas": null,
      "grid_template_columns": null,
      "grid_template_rows": null,
      "height": null,
      "justify_content": null,
      "justify_items": null,
      "left": null,
      "margin": null,
      "max_height": null,
      "max_width": null,
      "min_height": null,
      "min_width": null,
      "object_fit": null,
      "object_position": null,
      "order": null,
      "overflow": null,
      "overflow_x": null,
      "overflow_y": null,
      "padding": null,
      "right": null,
      "top": null,
      "visibility": null,
      "width": null
     }
    },
    "ff39b443150245cc92337b3c0bf0718b": {
     "model_module": "@jupyter-widgets/controls",
     "model_name": "ProgressStyleModel",
     "model_module_version": "1.5.0",
     "state": {
      "_model_module": "@jupyter-widgets/controls",
      "_model_module_version": "1.5.0",
      "_model_name": "ProgressStyleModel",
      "_view_count": null,
      "_view_module": "@jupyter-widgets/base",
      "_view_module_version": "1.2.0",
      "_view_name": "StyleView",
      "bar_color": null,
      "description_width": ""
     }
    },
    "d67b59a7b95149f9944f3684e748cb98": {
     "model_module": "@jupyter-widgets/base",
     "model_name": "LayoutModel",
     "model_module_version": "1.2.0",
     "state": {
      "_model_module": "@jupyter-widgets/base",
      "_model_module_version": "1.2.0",
      "_model_name": "LayoutModel",
      "_view_count": null,
      "_view_module": "@jupyter-widgets/base",
      "_view_module_version": "1.2.0",
      "_view_name": "LayoutView",
      "align_content": null,
      "align_items": null,
      "align_self": null,
      "border": null,
      "bottom": null,
      "display": null,
      "flex": null,
      "flex_flow": null,
      "grid_area": null,
      "grid_auto_columns": null,
      "grid_auto_flow": null,
      "grid_auto_rows": null,
      "grid_column": null,
      "grid_gap": null,
      "grid_row": null,
      "grid_template_areas": null,
      "grid_template_columns": null,
      "grid_template_rows": null,
      "height": null,
      "justify_content": null,
      "justify_items": null,
      "left": null,
      "margin": null,
      "max_height": null,
      "max_width": null,
      "min_height": null,
      "min_width": null,
      "object_fit": null,
      "object_position": null,
      "order": null,
      "overflow": null,
      "overflow_x": null,
      "overflow_y": null,
      "padding": null,
      "right": null,
      "top": null,
      "visibility": null,
      "width": null
     }
    },
    "1df6e9bd904f4d09b29a16457d01f026": {
     "model_module": "@jupyter-widgets/controls",
     "model_name": "DescriptionStyleModel",
     "model_module_version": "1.5.0",
     "state": {
      "_model_module": "@jupyter-widgets/controls",
      "_model_module_version": "1.5.0",
      "_model_name": "DescriptionStyleModel",
      "_view_count": null,
      "_view_module": "@jupyter-widgets/base",
      "_view_module_version": "1.2.0",
      "_view_name": "StyleView",
      "description_width": ""
     }
    },
    "700f8b681af945b4aae9df905e0a5b16": {
     "model_module": "@jupyter-widgets/controls",
     "model_name": "HBoxModel",
     "model_module_version": "1.5.0",
     "state": {
      "_dom_classes": [],
      "_model_module": "@jupyter-widgets/controls",
      "_model_module_version": "1.5.0",
      "_model_name": "HBoxModel",
      "_view_count": null,
      "_view_module": "@jupyter-widgets/controls",
      "_view_module_version": "1.5.0",
      "_view_name": "HBoxView",
      "box_style": "",
      "children": [
       "IPY_MODEL_b51f1284880a40c8a31ed1523ba242a0",
       "IPY_MODEL_10f3c686478a4252af7b119c1dfb3319",
       "IPY_MODEL_2ba4918bb07b48c68a262016551b4c26"
      ],
      "layout": "IPY_MODEL_8c8695fa9fae4610a302fbf1cf8792b4"
     }
    },
    "b51f1284880a40c8a31ed1523ba242a0": {
     "model_module": "@jupyter-widgets/controls",
     "model_name": "HTMLModel",
     "model_module_version": "1.5.0",
     "state": {
      "_dom_classes": [],
      "_model_module": "@jupyter-widgets/controls",
      "_model_module_version": "1.5.0",
      "_model_name": "HTMLModel",
      "_view_count": null,
      "_view_module": "@jupyter-widgets/controls",
      "_view_module_version": "1.5.0",
      "_view_name": "HTMLView",
      "description": "",
      "description_tooltip": null,
      "layout": "IPY_MODEL_a710e60c956649e39a1e51e64380b9ff",
      "placeholder": "​",
      "style": "IPY_MODEL_5dfafc713d3a43788484b296dcfd0a09",
      "value": ""
     }
    },
    "10f3c686478a4252af7b119c1dfb3319": {
     "model_module": "@jupyter-widgets/controls",
     "model_name": "FloatProgressModel",
     "model_module_version": "1.5.0",
     "state": {
      "_dom_classes": [],
      "_model_module": "@jupyter-widgets/controls",
      "_model_module_version": "1.5.0",
      "_model_name": "FloatProgressModel",
      "_view_count": null,
      "_view_module": "@jupyter-widgets/controls",
      "_view_module_version": "1.5.0",
      "_view_name": "ProgressView",
      "bar_style": "success",
      "description": "",
      "description_tooltip": null,
      "layout": "IPY_MODEL_744bb1c12ad543f2b3e660cf9f453c2a",
      "max": 28881,
      "min": 0,
      "orientation": "horizontal",
      "style": "IPY_MODEL_8d002a362dee42b2a1b1c2ee30ab85ba",
      "value": 28881
     }
    },
    "2ba4918bb07b48c68a262016551b4c26": {
     "model_module": "@jupyter-widgets/controls",
     "model_name": "HTMLModel",
     "model_module_version": "1.5.0",
     "state": {
      "_dom_classes": [],
      "_model_module": "@jupyter-widgets/controls",
      "_model_module_version": "1.5.0",
      "_model_name": "HTMLModel",
      "_view_count": null,
      "_view_module": "@jupyter-widgets/controls",
      "_view_module_version": "1.5.0",
      "_view_name": "HTMLView",
      "description": "",
      "description_tooltip": null,
      "layout": "IPY_MODEL_bffb35096e664faaa454a0d7f8d80075",
      "placeholder": "​",
      "style": "IPY_MODEL_010e4f873070474f80a0f6bad0b6dd80",
      "value": " 29696/? [00:00&lt;00:00, 886903.39it/s]"
     }
    },
    "8c8695fa9fae4610a302fbf1cf8792b4": {
     "model_module": "@jupyter-widgets/base",
     "model_name": "LayoutModel",
     "model_module_version": "1.2.0",
     "state": {
      "_model_module": "@jupyter-widgets/base",
      "_model_module_version": "1.2.0",
      "_model_name": "LayoutModel",
      "_view_count": null,
      "_view_module": "@jupyter-widgets/base",
      "_view_module_version": "1.2.0",
      "_view_name": "LayoutView",
      "align_content": null,
      "align_items": null,
      "align_self": null,
      "border": null,
      "bottom": null,
      "display": null,
      "flex": null,
      "flex_flow": null,
      "grid_area": null,
      "grid_auto_columns": null,
      "grid_auto_flow": null,
      "grid_auto_rows": null,
      "grid_column": null,
      "grid_gap": null,
      "grid_row": null,
      "grid_template_areas": null,
      "grid_template_columns": null,
      "grid_template_rows": null,
      "height": null,
      "justify_content": null,
      "justify_items": null,
      "left": null,
      "margin": null,
      "max_height": null,
      "max_width": null,
      "min_height": null,
      "min_width": null,
      "object_fit": null,
      "object_position": null,
      "order": null,
      "overflow": null,
      "overflow_x": null,
      "overflow_y": null,
      "padding": null,
      "right": null,
      "top": null,
      "visibility": null,
      "width": null
     }
    },
    "a710e60c956649e39a1e51e64380b9ff": {
     "model_module": "@jupyter-widgets/base",
     "model_name": "LayoutModel",
     "model_module_version": "1.2.0",
     "state": {
      "_model_module": "@jupyter-widgets/base",
      "_model_module_version": "1.2.0",
      "_model_name": "LayoutModel",
      "_view_count": null,
      "_view_module": "@jupyter-widgets/base",
      "_view_module_version": "1.2.0",
      "_view_name": "LayoutView",
      "align_content": null,
      "align_items": null,
      "align_self": null,
      "border": null,
      "bottom": null,
      "display": null,
      "flex": null,
      "flex_flow": null,
      "grid_area": null,
      "grid_auto_columns": null,
      "grid_auto_flow": null,
      "grid_auto_rows": null,
      "grid_column": null,
      "grid_gap": null,
      "grid_row": null,
      "grid_template_areas": null,
      "grid_template_columns": null,
      "grid_template_rows": null,
      "height": null,
      "justify_content": null,
      "justify_items": null,
      "left": null,
      "margin": null,
      "max_height": null,
      "max_width": null,
      "min_height": null,
      "min_width": null,
      "object_fit": null,
      "object_position": null,
      "order": null,
      "overflow": null,
      "overflow_x": null,
      "overflow_y": null,
      "padding": null,
      "right": null,
      "top": null,
      "visibility": null,
      "width": null
     }
    },
    "5dfafc713d3a43788484b296dcfd0a09": {
     "model_module": "@jupyter-widgets/controls",
     "model_name": "DescriptionStyleModel",
     "model_module_version": "1.5.0",
     "state": {
      "_model_module": "@jupyter-widgets/controls",
      "_model_module_version": "1.5.0",
      "_model_name": "DescriptionStyleModel",
      "_view_count": null,
      "_view_module": "@jupyter-widgets/base",
      "_view_module_version": "1.2.0",
      "_view_name": "StyleView",
      "description_width": ""
     }
    },
    "744bb1c12ad543f2b3e660cf9f453c2a": {
     "model_module": "@jupyter-widgets/base",
     "model_name": "LayoutModel",
     "model_module_version": "1.2.0",
     "state": {
      "_model_module": "@jupyter-widgets/base",
      "_model_module_version": "1.2.0",
      "_model_name": "LayoutModel",
      "_view_count": null,
      "_view_module": "@jupyter-widgets/base",
      "_view_module_version": "1.2.0",
      "_view_name": "LayoutView",
      "align_content": null,
      "align_items": null,
      "align_self": null,
      "border": null,
      "bottom": null,
      "display": null,
      "flex": null,
      "flex_flow": null,
      "grid_area": null,
      "grid_auto_columns": null,
      "grid_auto_flow": null,
      "grid_auto_rows": null,
      "grid_column": null,
      "grid_gap": null,
      "grid_row": null,
      "grid_template_areas": null,
      "grid_template_columns": null,
      "grid_template_rows": null,
      "height": null,
      "justify_content": null,
      "justify_items": null,
      "left": null,
      "margin": null,
      "max_height": null,
      "max_width": null,
      "min_height": null,
      "min_width": null,
      "object_fit": null,
      "object_position": null,
      "order": null,
      "overflow": null,
      "overflow_x": null,
      "overflow_y": null,
      "padding": null,
      "right": null,
      "top": null,
      "visibility": null,
      "width": null
     }
    },
    "8d002a362dee42b2a1b1c2ee30ab85ba": {
     "model_module": "@jupyter-widgets/controls",
     "model_name": "ProgressStyleModel",
     "model_module_version": "1.5.0",
     "state": {
      "_model_module": "@jupyter-widgets/controls",
      "_model_module_version": "1.5.0",
      "_model_name": "ProgressStyleModel",
      "_view_count": null,
      "_view_module": "@jupyter-widgets/base",
      "_view_module_version": "1.2.0",
      "_view_name": "StyleView",
      "bar_color": null,
      "description_width": ""
     }
    },
    "bffb35096e664faaa454a0d7f8d80075": {
     "model_module": "@jupyter-widgets/base",
     "model_name": "LayoutModel",
     "model_module_version": "1.2.0",
     "state": {
      "_model_module": "@jupyter-widgets/base",
      "_model_module_version": "1.2.0",
      "_model_name": "LayoutModel",
      "_view_count": null,
      "_view_module": "@jupyter-widgets/base",
      "_view_module_version": "1.2.0",
      "_view_name": "LayoutView",
      "align_content": null,
      "align_items": null,
      "align_self": null,
      "border": null,
      "bottom": null,
      "display": null,
      "flex": null,
      "flex_flow": null,
      "grid_area": null,
      "grid_auto_columns": null,
      "grid_auto_flow": null,
      "grid_auto_rows": null,
      "grid_column": null,
      "grid_gap": null,
      "grid_row": null,
      "grid_template_areas": null,
      "grid_template_columns": null,
      "grid_template_rows": null,
      "height": null,
      "justify_content": null,
      "justify_items": null,
      "left": null,
      "margin": null,
      "max_height": null,
      "max_width": null,
      "min_height": null,
      "min_width": null,
      "object_fit": null,
      "object_position": null,
      "order": null,
      "overflow": null,
      "overflow_x": null,
      "overflow_y": null,
      "padding": null,
      "right": null,
      "top": null,
      "visibility": null,
      "width": null
     }
    },
    "010e4f873070474f80a0f6bad0b6dd80": {
     "model_module": "@jupyter-widgets/controls",
     "model_name": "DescriptionStyleModel",
     "model_module_version": "1.5.0",
     "state": {
      "_model_module": "@jupyter-widgets/controls",
      "_model_module_version": "1.5.0",
      "_model_name": "DescriptionStyleModel",
      "_view_count": null,
      "_view_module": "@jupyter-widgets/base",
      "_view_module_version": "1.2.0",
      "_view_name": "StyleView",
      "description_width": ""
     }
    },
    "acb362b89a234f46831ddf908f476779": {
     "model_module": "@jupyter-widgets/controls",
     "model_name": "HBoxModel",
     "model_module_version": "1.5.0",
     "state": {
      "_dom_classes": [],
      "_model_module": "@jupyter-widgets/controls",
      "_model_module_version": "1.5.0",
      "_model_name": "HBoxModel",
      "_view_count": null,
      "_view_module": "@jupyter-widgets/controls",
      "_view_module_version": "1.5.0",
      "_view_name": "HBoxView",
      "box_style": "",
      "children": [
       "IPY_MODEL_6ca4131f2bd742019970a54c4b9dd678",
       "IPY_MODEL_37ec733774414ff2884498f8258dc7ab",
       "IPY_MODEL_b86e87dee76d4250acc0f66e7e4a8d09"
      ],
      "layout": "IPY_MODEL_399a42a575a0452ba1344365c3846611"
     }
    },
    "6ca4131f2bd742019970a54c4b9dd678": {
     "model_module": "@jupyter-widgets/controls",
     "model_name": "HTMLModel",
     "model_module_version": "1.5.0",
     "state": {
      "_dom_classes": [],
      "_model_module": "@jupyter-widgets/controls",
      "_model_module_version": "1.5.0",
      "_model_name": "HTMLModel",
      "_view_count": null,
      "_view_module": "@jupyter-widgets/controls",
      "_view_module_version": "1.5.0",
      "_view_name": "HTMLView",
      "description": "",
      "description_tooltip": null,
      "layout": "IPY_MODEL_65617ec7e58b4b4681f84b5aca9ec39a",
      "placeholder": "​",
      "style": "IPY_MODEL_fb0684ef08464fb2a9330b4400bbd477",
      "value": ""
     }
    },
    "37ec733774414ff2884498f8258dc7ab": {
     "model_module": "@jupyter-widgets/controls",
     "model_name": "FloatProgressModel",
     "model_module_version": "1.5.0",
     "state": {
      "_dom_classes": [],
      "_model_module": "@jupyter-widgets/controls",
      "_model_module_version": "1.5.0",
      "_model_name": "FloatProgressModel",
      "_view_count": null,
      "_view_module": "@jupyter-widgets/controls",
      "_view_module_version": "1.5.0",
      "_view_name": "ProgressView",
      "bar_style": "success",
      "description": "",
      "description_tooltip": null,
      "layout": "IPY_MODEL_a698bb181b014d179229dd4e948fd99b",
      "max": 1648877,
      "min": 0,
      "orientation": "horizontal",
      "style": "IPY_MODEL_7e9383d9da3c4aba823af992fd5dc671",
      "value": 1648877
     }
    },
    "b86e87dee76d4250acc0f66e7e4a8d09": {
     "model_module": "@jupyter-widgets/controls",
     "model_name": "HTMLModel",
     "model_module_version": "1.5.0",
     "state": {
      "_dom_classes": [],
      "_model_module": "@jupyter-widgets/controls",
      "_model_module_version": "1.5.0",
      "_model_name": "HTMLModel",
      "_view_count": null,
      "_view_module": "@jupyter-widgets/controls",
      "_view_module_version": "1.5.0",
      "_view_name": "HTMLView",
      "description": "",
      "description_tooltip": null,
      "layout": "IPY_MODEL_b4ff922c7c834aa79942c1b18a23b3b4",
      "placeholder": "​",
      "style": "IPY_MODEL_799d61d7d9344d31953994487db2398e",
      "value": " 1649664/? [00:00&lt;00:00, 25613072.76it/s]"
     }
    },
    "399a42a575a0452ba1344365c3846611": {
     "model_module": "@jupyter-widgets/base",
     "model_name": "LayoutModel",
     "model_module_version": "1.2.0",
     "state": {
      "_model_module": "@jupyter-widgets/base",
      "_model_module_version": "1.2.0",
      "_model_name": "LayoutModel",
      "_view_count": null,
      "_view_module": "@jupyter-widgets/base",
      "_view_module_version": "1.2.0",
      "_view_name": "LayoutView",
      "align_content": null,
      "align_items": null,
      "align_self": null,
      "border": null,
      "bottom": null,
      "display": null,
      "flex": null,
      "flex_flow": null,
      "grid_area": null,
      "grid_auto_columns": null,
      "grid_auto_flow": null,
      "grid_auto_rows": null,
      "grid_column": null,
      "grid_gap": null,
      "grid_row": null,
      "grid_template_areas": null,
      "grid_template_columns": null,
      "grid_template_rows": null,
      "height": null,
      "justify_content": null,
      "justify_items": null,
      "left": null,
      "margin": null,
      "max_height": null,
      "max_width": null,
      "min_height": null,
      "min_width": null,
      "object_fit": null,
      "object_position": null,
      "order": null,
      "overflow": null,
      "overflow_x": null,
      "overflow_y": null,
      "padding": null,
      "right": null,
      "top": null,
      "visibility": null,
      "width": null
     }
    },
    "65617ec7e58b4b4681f84b5aca9ec39a": {
     "model_module": "@jupyter-widgets/base",
     "model_name": "LayoutModel",
     "model_module_version": "1.2.0",
     "state": {
      "_model_module": "@jupyter-widgets/base",
      "_model_module_version": "1.2.0",
      "_model_name": "LayoutModel",
      "_view_count": null,
      "_view_module": "@jupyter-widgets/base",
      "_view_module_version": "1.2.0",
      "_view_name": "LayoutView",
      "align_content": null,
      "align_items": null,
      "align_self": null,
      "border": null,
      "bottom": null,
      "display": null,
      "flex": null,
      "flex_flow": null,
      "grid_area": null,
      "grid_auto_columns": null,
      "grid_auto_flow": null,
      "grid_auto_rows": null,
      "grid_column": null,
      "grid_gap": null,
      "grid_row": null,
      "grid_template_areas": null,
      "grid_template_columns": null,
      "grid_template_rows": null,
      "height": null,
      "justify_content": null,
      "justify_items": null,
      "left": null,
      "margin": null,
      "max_height": null,
      "max_width": null,
      "min_height": null,
      "min_width": null,
      "object_fit": null,
      "object_position": null,
      "order": null,
      "overflow": null,
      "overflow_x": null,
      "overflow_y": null,
      "padding": null,
      "right": null,
      "top": null,
      "visibility": null,
      "width": null
     }
    },
    "fb0684ef08464fb2a9330b4400bbd477": {
     "model_module": "@jupyter-widgets/controls",
     "model_name": "DescriptionStyleModel",
     "model_module_version": "1.5.0",
     "state": {
      "_model_module": "@jupyter-widgets/controls",
      "_model_module_version": "1.5.0",
      "_model_name": "DescriptionStyleModel",
      "_view_count": null,
      "_view_module": "@jupyter-widgets/base",
      "_view_module_version": "1.2.0",
      "_view_name": "StyleView",
      "description_width": ""
     }
    },
    "a698bb181b014d179229dd4e948fd99b": {
     "model_module": "@jupyter-widgets/base",
     "model_name": "LayoutModel",
     "model_module_version": "1.2.0",
     "state": {
      "_model_module": "@jupyter-widgets/base",
      "_model_module_version": "1.2.0",
      "_model_name": "LayoutModel",
      "_view_count": null,
      "_view_module": "@jupyter-widgets/base",
      "_view_module_version": "1.2.0",
      "_view_name": "LayoutView",
      "align_content": null,
      "align_items": null,
      "align_self": null,
      "border": null,
      "bottom": null,
      "display": null,
      "flex": null,
      "flex_flow": null,
      "grid_area": null,
      "grid_auto_columns": null,
      "grid_auto_flow": null,
      "grid_auto_rows": null,
      "grid_column": null,
      "grid_gap": null,
      "grid_row": null,
      "grid_template_areas": null,
      "grid_template_columns": null,
      "grid_template_rows": null,
      "height": null,
      "justify_content": null,
      "justify_items": null,
      "left": null,
      "margin": null,
      "max_height": null,
      "max_width": null,
      "min_height": null,
      "min_width": null,
      "object_fit": null,
      "object_position": null,
      "order": null,
      "overflow": null,
      "overflow_x": null,
      "overflow_y": null,
      "padding": null,
      "right": null,
      "top": null,
      "visibility": null,
      "width": null
     }
    },
    "7e9383d9da3c4aba823af992fd5dc671": {
     "model_module": "@jupyter-widgets/controls",
     "model_name": "ProgressStyleModel",
     "model_module_version": "1.5.0",
     "state": {
      "_model_module": "@jupyter-widgets/controls",
      "_model_module_version": "1.5.0",
      "_model_name": "ProgressStyleModel",
      "_view_count": null,
      "_view_module": "@jupyter-widgets/base",
      "_view_module_version": "1.2.0",
      "_view_name": "StyleView",
      "bar_color": null,
      "description_width": ""
     }
    },
    "b4ff922c7c834aa79942c1b18a23b3b4": {
     "model_module": "@jupyter-widgets/base",
     "model_name": "LayoutModel",
     "model_module_version": "1.2.0",
     "state": {
      "_model_module": "@jupyter-widgets/base",
      "_model_module_version": "1.2.0",
      "_model_name": "LayoutModel",
      "_view_count": null,
      "_view_module": "@jupyter-widgets/base",
      "_view_module_version": "1.2.0",
      "_view_name": "LayoutView",
      "align_content": null,
      "align_items": null,
      "align_self": null,
      "border": null,
      "bottom": null,
      "display": null,
      "flex": null,
      "flex_flow": null,
      "grid_area": null,
      "grid_auto_columns": null,
      "grid_auto_flow": null,
      "grid_auto_rows": null,
      "grid_column": null,
      "grid_gap": null,
      "grid_row": null,
      "grid_template_areas": null,
      "grid_template_columns": null,
      "grid_template_rows": null,
      "height": null,
      "justify_content": null,
      "justify_items": null,
      "left": null,
      "margin": null,
      "max_height": null,
      "max_width": null,
      "min_height": null,
      "min_width": null,
      "object_fit": null,
      "object_position": null,
      "order": null,
      "overflow": null,
      "overflow_x": null,
      "overflow_y": null,
      "padding": null,
      "right": null,
      "top": null,
      "visibility": null,
      "width": null
     }
    },
    "799d61d7d9344d31953994487db2398e": {
     "model_module": "@jupyter-widgets/controls",
     "model_name": "DescriptionStyleModel",
     "model_module_version": "1.5.0",
     "state": {
      "_model_module": "@jupyter-widgets/controls",
      "_model_module_version": "1.5.0",
      "_model_name": "DescriptionStyleModel",
      "_view_count": null,
      "_view_module": "@jupyter-widgets/base",
      "_view_module_version": "1.2.0",
      "_view_name": "StyleView",
      "description_width": ""
     }
    },
    "7c61c1a2008e4f17884fa2655e1bd4f4": {
     "model_module": "@jupyter-widgets/controls",
     "model_name": "HBoxModel",
     "model_module_version": "1.5.0",
     "state": {
      "_dom_classes": [],
      "_model_module": "@jupyter-widgets/controls",
      "_model_module_version": "1.5.0",
      "_model_name": "HBoxModel",
      "_view_count": null,
      "_view_module": "@jupyter-widgets/controls",
      "_view_module_version": "1.5.0",
      "_view_name": "HBoxView",
      "box_style": "",
      "children": [
       "IPY_MODEL_133d2d5d75b24dc0b9d66cd1456497d5",
       "IPY_MODEL_e10bd172bb6544b5b3d8a24e98c1a7c9",
       "IPY_MODEL_883dbfe58bf348d58de7ab5fadc76481"
      ],
      "layout": "IPY_MODEL_7153440f9e874a88a39447df7393e82a"
     }
    },
    "133d2d5d75b24dc0b9d66cd1456497d5": {
     "model_module": "@jupyter-widgets/controls",
     "model_name": "HTMLModel",
     "model_module_version": "1.5.0",
     "state": {
      "_dom_classes": [],
      "_model_module": "@jupyter-widgets/controls",
      "_model_module_version": "1.5.0",
      "_model_name": "HTMLModel",
      "_view_count": null,
      "_view_module": "@jupyter-widgets/controls",
      "_view_module_version": "1.5.0",
      "_view_name": "HTMLView",
      "description": "",
      "description_tooltip": null,
      "layout": "IPY_MODEL_f9c950bb2cdc4e538c4d81906713e0f2",
      "placeholder": "​",
      "style": "IPY_MODEL_576faeb0b8eb456b849204f3c639b4d1",
      "value": ""
     }
    },
    "e10bd172bb6544b5b3d8a24e98c1a7c9": {
     "model_module": "@jupyter-widgets/controls",
     "model_name": "FloatProgressModel",
     "model_module_version": "1.5.0",
     "state": {
      "_dom_classes": [],
      "_model_module": "@jupyter-widgets/controls",
      "_model_module_version": "1.5.0",
      "_model_name": "FloatProgressModel",
      "_view_count": null,
      "_view_module": "@jupyter-widgets/controls",
      "_view_module_version": "1.5.0",
      "_view_name": "ProgressView",
      "bar_style": "success",
      "description": "",
      "description_tooltip": null,
      "layout": "IPY_MODEL_2a97810b20d5410c81f5b6768e4fe616",
      "max": 4542,
      "min": 0,
      "orientation": "horizontal",
      "style": "IPY_MODEL_5d2bc330e88546dca6e8ec6a2e738533",
      "value": 4542
     }
    },
    "883dbfe58bf348d58de7ab5fadc76481": {
     "model_module": "@jupyter-widgets/controls",
     "model_name": "HTMLModel",
     "model_module_version": "1.5.0",
     "state": {
      "_dom_classes": [],
      "_model_module": "@jupyter-widgets/controls",
      "_model_module_version": "1.5.0",
      "_model_name": "HTMLModel",
      "_view_count": null,
      "_view_module": "@jupyter-widgets/controls",
      "_view_module_version": "1.5.0",
      "_view_name": "HTMLView",
      "description": "",
      "description_tooltip": null,
      "layout": "IPY_MODEL_459651d2c6c94f7e942f7cffff6d2865",
      "placeholder": "​",
      "style": "IPY_MODEL_f4a221207ca84c46854e1d8f833a8772",
      "value": " 5120/? [00:00&lt;00:00, 7474.02it/s]"
     }
    },
    "7153440f9e874a88a39447df7393e82a": {
     "model_module": "@jupyter-widgets/base",
     "model_name": "LayoutModel",
     "model_module_version": "1.2.0",
     "state": {
      "_model_module": "@jupyter-widgets/base",
      "_model_module_version": "1.2.0",
      "_model_name": "LayoutModel",
      "_view_count": null,
      "_view_module": "@jupyter-widgets/base",
      "_view_module_version": "1.2.0",
      "_view_name": "LayoutView",
      "align_content": null,
      "align_items": null,
      "align_self": null,
      "border": null,
      "bottom": null,
      "display": null,
      "flex": null,
      "flex_flow": null,
      "grid_area": null,
      "grid_auto_columns": null,
      "grid_auto_flow": null,
      "grid_auto_rows": null,
      "grid_column": null,
      "grid_gap": null,
      "grid_row": null,
      "grid_template_areas": null,
      "grid_template_columns": null,
      "grid_template_rows": null,
      "height": null,
      "justify_content": null,
      "justify_items": null,
      "left": null,
      "margin": null,
      "max_height": null,
      "max_width": null,
      "min_height": null,
      "min_width": null,
      "object_fit": null,
      "object_position": null,
      "order": null,
      "overflow": null,
      "overflow_x": null,
      "overflow_y": null,
      "padding": null,
      "right": null,
      "top": null,
      "visibility": null,
      "width": null
     }
    },
    "f9c950bb2cdc4e538c4d81906713e0f2": {
     "model_module": "@jupyter-widgets/base",
     "model_name": "LayoutModel",
     "model_module_version": "1.2.0",
     "state": {
      "_model_module": "@jupyter-widgets/base",
      "_model_module_version": "1.2.0",
      "_model_name": "LayoutModel",
      "_view_count": null,
      "_view_module": "@jupyter-widgets/base",
      "_view_module_version": "1.2.0",
      "_view_name": "LayoutView",
      "align_content": null,
      "align_items": null,
      "align_self": null,
      "border": null,
      "bottom": null,
      "display": null,
      "flex": null,
      "flex_flow": null,
      "grid_area": null,
      "grid_auto_columns": null,
      "grid_auto_flow": null,
      "grid_auto_rows": null,
      "grid_column": null,
      "grid_gap": null,
      "grid_row": null,
      "grid_template_areas": null,
      "grid_template_columns": null,
      "grid_template_rows": null,
      "height": null,
      "justify_content": null,
      "justify_items": null,
      "left": null,
      "margin": null,
      "max_height": null,
      "max_width": null,
      "min_height": null,
      "min_width": null,
      "object_fit": null,
      "object_position": null,
      "order": null,
      "overflow": null,
      "overflow_x": null,
      "overflow_y": null,
      "padding": null,
      "right": null,
      "top": null,
      "visibility": null,
      "width": null
     }
    },
    "576faeb0b8eb456b849204f3c639b4d1": {
     "model_module": "@jupyter-widgets/controls",
     "model_name": "DescriptionStyleModel",
     "model_module_version": "1.5.0",
     "state": {
      "_model_module": "@jupyter-widgets/controls",
      "_model_module_version": "1.5.0",
      "_model_name": "DescriptionStyleModel",
      "_view_count": null,
      "_view_module": "@jupyter-widgets/base",
      "_view_module_version": "1.2.0",
      "_view_name": "StyleView",
      "description_width": ""
     }
    },
    "2a97810b20d5410c81f5b6768e4fe616": {
     "model_module": "@jupyter-widgets/base",
     "model_name": "LayoutModel",
     "model_module_version": "1.2.0",
     "state": {
      "_model_module": "@jupyter-widgets/base",
      "_model_module_version": "1.2.0",
      "_model_name": "LayoutModel",
      "_view_count": null,
      "_view_module": "@jupyter-widgets/base",
      "_view_module_version": "1.2.0",
      "_view_name": "LayoutView",
      "align_content": null,
      "align_items": null,
      "align_self": null,
      "border": null,
      "bottom": null,
      "display": null,
      "flex": null,
      "flex_flow": null,
      "grid_area": null,
      "grid_auto_columns": null,
      "grid_auto_flow": null,
      "grid_auto_rows": null,
      "grid_column": null,
      "grid_gap": null,
      "grid_row": null,
      "grid_template_areas": null,
      "grid_template_columns": null,
      "grid_template_rows": null,
      "height": null,
      "justify_content": null,
      "justify_items": null,
      "left": null,
      "margin": null,
      "max_height": null,
      "max_width": null,
      "min_height": null,
      "min_width": null,
      "object_fit": null,
      "object_position": null,
      "order": null,
      "overflow": null,
      "overflow_x": null,
      "overflow_y": null,
      "padding": null,
      "right": null,
      "top": null,
      "visibility": null,
      "width": null
     }
    },
    "5d2bc330e88546dca6e8ec6a2e738533": {
     "model_module": "@jupyter-widgets/controls",
     "model_name": "ProgressStyleModel",
     "model_module_version": "1.5.0",
     "state": {
      "_model_module": "@jupyter-widgets/controls",
      "_model_module_version": "1.5.0",
      "_model_name": "ProgressStyleModel",
      "_view_count": null,
      "_view_module": "@jupyter-widgets/base",
      "_view_module_version": "1.2.0",
      "_view_name": "StyleView",
      "bar_color": null,
      "description_width": ""
     }
    },
    "459651d2c6c94f7e942f7cffff6d2865": {
     "model_module": "@jupyter-widgets/base",
     "model_name": "LayoutModel",
     "model_module_version": "1.2.0",
     "state": {
      "_model_module": "@jupyter-widgets/base",
      "_model_module_version": "1.2.0",
      "_model_name": "LayoutModel",
      "_view_count": null,
      "_view_module": "@jupyter-widgets/base",
      "_view_module_version": "1.2.0",
      "_view_name": "LayoutView",
      "align_content": null,
      "align_items": null,
      "align_self": null,
      "border": null,
      "bottom": null,
      "display": null,
      "flex": null,
      "flex_flow": null,
      "grid_area": null,
      "grid_auto_columns": null,
      "grid_auto_flow": null,
      "grid_auto_rows": null,
      "grid_column": null,
      "grid_gap": null,
      "grid_row": null,
      "grid_template_areas": null,
      "grid_template_columns": null,
      "grid_template_rows": null,
      "height": null,
      "justify_content": null,
      "justify_items": null,
      "left": null,
      "margin": null,
      "max_height": null,
      "max_width": null,
      "min_height": null,
      "min_width": null,
      "object_fit": null,
      "object_position": null,
      "order": null,
      "overflow": null,
      "overflow_x": null,
      "overflow_y": null,
      "padding": null,
      "right": null,
      "top": null,
      "visibility": null,
      "width": null
     }
    },
    "f4a221207ca84c46854e1d8f833a8772": {
     "model_module": "@jupyter-widgets/controls",
     "model_name": "DescriptionStyleModel",
     "model_module_version": "1.5.0",
     "state": {
      "_model_module": "@jupyter-widgets/controls",
      "_model_module_version": "1.5.0",
      "_model_name": "DescriptionStyleModel",
      "_view_count": null,
      "_view_module": "@jupyter-widgets/base",
      "_view_module_version": "1.2.0",
      "_view_name": "StyleView",
      "description_width": ""
     }
    }
   }
  }
 },
 "cells": [
  {
   "cell_type": "code",
   "metadata": {
    "id": "QFaVqwFDCB-B",
    "pycharm": {
     "name": "#%%\n"
    }
   },
   "source": [
    "import torch\n",
    "import torch.nn as nn\n",
    "import torch.nn.functional as F\n",
    "\n",
    "from torchvision import datasets\n",
    "import torchvision.transforms as transforms\n",
    "from torch.utils.data import DataLoader\n",
    "from torchvision.transforms.functional import to_pil_image\n",
    "import matplotlib.pylab as plt\n",
    "%matplotlib inline\n",
    "\n",
    "import os\n",
    "import numpy as np\n",
    "import time\n",
    "\n",
    "device = torch.device('cuda' if torch.cuda.is_available() else 'cpu')"
   ],
   "execution_count": 1,
   "outputs": []
  },
  {
   "cell_type": "markdown",
   "metadata": {
    "id": "d77l7D7EC4i7",
    "pycharm": {
     "name": "#%% md\n"
    }
   },
   "source": [
    "# 1. 데이터셋 불러오기"
   ]
  },
  {
   "cell_type": "code",
   "metadata": {
    "id": "bntTCkWpCe_r",
    "pycharm": {
     "name": "#%%\n"
    }
   },
   "source": [
    "# 데이터 경로 지정\n",
    "path2data = './data'\n",
    "os.makedirs(path2data, exist_ok=True) # 폴더 생성"
   ],
   "execution_count": 2,
   "outputs": []
  },
  {
   "cell_type": "code",
   "metadata": {
    "id": "Bw66vqNSEZNW",
    "outputId": "6525451b-fa80-4b88-a620-ce60b0d681cb",
    "colab": {
     "base_uri": "https://localhost:8080/",
     "height": 439,
     "referenced_widgets": [
      "cf6794fffae44af796bf05c28f53f800",
      "a988ced8d131451ba8aadb12b9589bb0",
      "7e420dbd64534902acd89b447f466bef",
      "39971858c1704695b1b94ee420c24776",
      "a9d4aab8f2394d6ca15096dcb7d301bc",
      "97fa514451844f0dac1dd0581655db2c",
      "401879432c1e48bc90c6e7e959027944",
      "7d9ef7da566a4857a56f831094cf853a",
      "ff39b443150245cc92337b3c0bf0718b",
      "d67b59a7b95149f9944f3684e748cb98",
      "1df6e9bd904f4d09b29a16457d01f026",
      "700f8b681af945b4aae9df905e0a5b16",
      "b51f1284880a40c8a31ed1523ba242a0",
      "10f3c686478a4252af7b119c1dfb3319",
      "2ba4918bb07b48c68a262016551b4c26",
      "8c8695fa9fae4610a302fbf1cf8792b4",
      "a710e60c956649e39a1e51e64380b9ff",
      "5dfafc713d3a43788484b296dcfd0a09",
      "744bb1c12ad543f2b3e660cf9f453c2a",
      "8d002a362dee42b2a1b1c2ee30ab85ba",
      "bffb35096e664faaa454a0d7f8d80075",
      "010e4f873070474f80a0f6bad0b6dd80",
      "acb362b89a234f46831ddf908f476779",
      "6ca4131f2bd742019970a54c4b9dd678",
      "37ec733774414ff2884498f8258dc7ab",
      "b86e87dee76d4250acc0f66e7e4a8d09",
      "399a42a575a0452ba1344365c3846611",
      "65617ec7e58b4b4681f84b5aca9ec39a",
      "fb0684ef08464fb2a9330b4400bbd477",
      "a698bb181b014d179229dd4e948fd99b",
      "7e9383d9da3c4aba823af992fd5dc671",
      "b4ff922c7c834aa79942c1b18a23b3b4",
      "799d61d7d9344d31953994487db2398e",
      "7c61c1a2008e4f17884fa2655e1bd4f4",
      "133d2d5d75b24dc0b9d66cd1456497d5",
      "e10bd172bb6544b5b3d8a24e98c1a7c9",
      "883dbfe58bf348d58de7ab5fadc76481",
      "7153440f9e874a88a39447df7393e82a",
      "f9c950bb2cdc4e538c4d81906713e0f2",
      "576faeb0b8eb456b849204f3c639b4d1",
      "2a97810b20d5410c81f5b6768e4fe616",
      "5d2bc330e88546dca6e8ec6a2e738533",
      "459651d2c6c94f7e942f7cffff6d2865",
      "f4a221207ca84c46854e1d8f833a8772"
     ]
    },
    "pycharm": {
     "name": "#%%\n"
    }
   },
   "source": [
    "# MNIST dataset 불러오기\n",
    "train_ds = datasets.MNIST(path2data, train=True, transform=transforms.Compose([transforms.ToTensor(),transforms.Normalize([0.5],[0.5])]), download=True)"
   ],
   "execution_count": 3,
   "outputs": [
    {
     "name": "stderr",
     "output_type": "stream",
     "text": [
      "0.7%"
     ]
    },
    {
     "name": "stdout",
     "output_type": "stream",
     "text": [
      "Downloading http://yann.lecun.com/exdb/mnist/train-images-idx3-ubyte.gz to ./data/MNIST/raw/train-images-idx3-ubyte.gz\n"
     ]
    },
    {
     "name": "stderr",
     "output_type": "stream",
     "text": [
      "100.1%"
     ]
    },
    {
     "name": "stdout",
     "output_type": "stream",
     "text": [
      "Extracting ./data/MNIST/raw/train-images-idx3-ubyte.gz\n"
     ]
    },
    {
     "name": "stderr",
     "output_type": "stream",
     "text": [
      "113.5%"
     ]
    },
    {
     "name": "stdout",
     "output_type": "stream",
     "text": [
      "Downloading http://yann.lecun.com/exdb/mnist/train-labels-idx1-ubyte.gz to ./data/MNIST/raw/train-labels-idx1-ubyte.gz\n",
      "Extracting ./data/MNIST/raw/train-labels-idx1-ubyte.gz\n",
      "Downloading http://yann.lecun.com/exdb/mnist/t10k-images-idx3-ubyte.gz to ./data/MNIST/raw/t10k-images-idx3-ubyte.gz\n"
     ]
    },
    {
     "name": "stderr",
     "output_type": "stream",
     "text": [
      "180.4%/home/joon0725/.local/lib/python3.10/site-packages/torchvision/datasets/mnist.py:335: UserWarning: The given NumPy array is not writable, and PyTorch does not support non-writable tensors. This means writing to this tensor will result in undefined behavior. You may want to copy the array to protect its data or make it writable before converting it to a tensor. This type of warning will be suppressed for the rest of this program. (Triggered internally at  /build/python-pytorch/src/pytorch-1.12.0-cuda/torch/csrc/utils/tensor_numpy.cpp:172.)\n",
      "  return torch.from_numpy(parsed).view(length, num_rows, num_cols)\n"
     ]
    },
    {
     "name": "stdout",
     "output_type": "stream",
     "text": [
      "Extracting ./data/MNIST/raw/t10k-images-idx3-ubyte.gz\n",
      "Downloading http://yann.lecun.com/exdb/mnist/t10k-labels-idx1-ubyte.gz to ./data/MNIST/raw/t10k-labels-idx1-ubyte.gz\n",
      "Extracting ./data/MNIST/raw/t10k-labels-idx1-ubyte.gz\n",
      "Processing...\n",
      "Done!\n"
     ]
    }
   ]
  },
  {
   "cell_type": "code",
   "metadata": {
    "colab": {
     "base_uri": "https://localhost:8080/",
     "height": 283
    },
    "id": "sVRHwXtbEyfw",
    "outputId": "20c41d8d-b636-40a7-876c-bba8317729a8",
    "pycharm": {
     "name": "#%%\n"
    }
   },
   "source": [
    "# 샘플 이미지 확인\n",
    "img, label = train_ds[0]\n",
    "plt.imshow(to_pil_image(0.5*img+0.5),cmap='gray')"
   ],
   "execution_count": 4,
   "outputs": [
    {
     "data": {
      "text/plain": "<matplotlib.image.AxesImage at 0x7f2d66288070>"
     },
     "execution_count": 4,
     "metadata": {},
     "output_type": "execute_result"
    },
    {
     "data": {
      "text/plain": "<Figure size 432x288 with 1 Axes>",
      "image/png": "[encoded data removed]"
     },
     "metadata": {
      "needs_background": "light"
     },
     "output_type": "display_data"
    }
   ]
  },
  {
   "cell_type": "code",
   "metadata": {
    "id": "rDXUwtGNFJSG",
    "pycharm": {
     "name": "#%%\n"
    }
   },
   "source": [
    "# 데이터 로더 생성\n",
    "train_dl = DataLoader(train_ds, batch_size=32, shuffle=True)"
   ],
   "execution_count": 5,
   "outputs": []
  },
  {
   "cell_type": "code",
   "metadata": {
    "colab": {
     "base_uri": "https://localhost:8080/"
    },
    "id": "qO02zq-BIyG9",
    "outputId": "d045bb58-89f4-4404-eded-886887f0a176",
    "pycharm": {
     "name": "#%%\n"
    }
   },
   "source": [
    "# check\n",
    "for x, y in train_dl:\n",
    "    print(x.shape, y.shape)\n",
    "    break"
   ],
   "execution_count": 6,
   "outputs": [
    {
     "name": "stdout",
     "output_type": "stream",
     "text": [
      "torch.Size([32, 1, 28, 28]) torch.Size([32])\n"
     ]
    }
   ]
  },
  {
   "cell_type": "markdown",
   "metadata": {
    "id": "4uY95ka7Jfr6",
    "pycharm": {
     "name": "#%% md\n"
    }
   },
   "source": [
    "# 2. 모델 구축하기"
   ]
  },
  {
   "cell_type": "code",
   "metadata": {
    "colab": {
     "base_uri": "https://localhost:8080/"
    },
    "id": "M9LUeRvII25r",
    "outputId": "61fce7ee-c94e-4937-a3af-bfdbf467361a",
    "pycharm": {
     "name": "#%%\n"
    }
   },
   "source": [
    "# generator: noise를 입력받아 이미지를 생성합니다.\n",
    "class Generator(nn.Module):\n",
    "    def __init__(self, params):\n",
    "        super().__init__()\n",
    "        self.nz = params['nz'] # 입력 노이즈 벡터 수, 100\n",
    "        self.img_size = params['img_size'] # 이미지 크기, 1x28x28\n",
    "\n",
    "        self.model = nn.Sequential(\n",
    "            *self._fc_layer(self.nz, 128, normalize=False),\n",
    "            *self._fc_layer(128,256),\n",
    "            *self._fc_layer(256,512),\n",
    "            *self._fc_layer(512,1024),\n",
    "            nn.Linear(1024,int(np.prod(self.img_size))),\n",
    "            nn.Tanh()\n",
    "        )\n",
    "\n",
    "    def forward(self, z):\n",
    "        img = self.model(z)\n",
    "        img = img.view(img.size(0), *self.img_size)\n",
    "        return img\n",
    "\n",
    "    # fc layer\n",
    "    def _fc_layer(self, in_channels, out_channels, normalize=True):\n",
    "        layers = []\n",
    "        layers.append(nn.Linear(in_channels, out_channels)) # fc layer\n",
    "        if normalize:\n",
    "            layers.append(nn.BatchNorm1d(out_channels, 0.8)) # BN\n",
    "        layers.append(nn.LeakyReLU(0.2)) # LeakyReLU\n",
    "        return layers\n",
    "\n",
    "# check\n",
    "params = {'nz':100,\n",
    "          'img_size':(1,28,28)}\n",
    "x = torch.randn(16,100).to(device) # random noise\n",
    "model_gen = Generator(params).to(device)\n",
    "output = model_gen(x) # noise를 입력받아 이미지 생성\n",
    "print(output.shape)"
   ],
   "execution_count": 7,
   "outputs": [
    {
     "name": "stdout",
     "output_type": "stream",
     "text": [
      "torch.Size([16, 1, 28, 28])\n"
     ]
    }
   ]
  },
  {
   "cell_type": "code",
   "metadata": {
    "colab": {
     "base_uri": "https://localhost:8080/"
    },
    "id": "lge1B1VJMKUi",
    "outputId": "3a91bb9a-0960-4675-c29b-a2a3e36779d9",
    "pycharm": {
     "name": "#%%\n"
    }
   },
   "source": [
    "# discriminator: 진짜 이미지와 가짜 이미지를 분류합니다.\n",
    "class Discriminator(nn.Module):\n",
    "    def __init__(self,params):\n",
    "        super().__init__()\n",
    "        self.img_size = params['img_size'] # 이미지 크기, 1x28x28\n",
    "\n",
    "        self.model = nn.Sequential(\n",
    "            nn.Linear(int(np.prod(self.img_size)), 512),\n",
    "            nn.LeakyReLU(0.2),\n",
    "            nn.Linear(512,256),\n",
    "            nn.LeakyReLU(0.2),\n",
    "            nn.Linear(256,1),\n",
    "            nn.Sigmoid()\n",
    "        )\n",
    "\n",
    "    def forward(self, x):\n",
    "        x = x.view(x.size(0),-1)\n",
    "        x = self.model(x)\n",
    "        return x\n",
    "\n",
    "# check\n",
    "x = torch.randn(16,1,28,28).to(device)\n",
    "model_dis = Discriminator(params).to(device)\n",
    "output = model_dis(x)\n",
    "print(output.shape)"
   ],
   "execution_count": 8,
   "outputs": [
    {
     "name": "stdout",
     "output_type": "stream",
     "text": [
      "torch.Size([16, 1])\n"
     ]
    }
   ]
  },
  {
   "cell_type": "code",
   "metadata": {
    "id": "hR7CZhmyqUYc",
    "pycharm": {
     "name": "#%%\n"
    }
   },
   "source": [
    "# 가중치 초기화\n",
    "def initialize_weights(model):\n",
    "    classname = model.__class__.__name__\n",
    "    # fc layer\n",
    "    if classname.find('Linear') != -1:\n",
    "        nn.init.normal_(model.weight.data, 0.0, 0.02)\n",
    "        nn.init.constant_(model.bias.data, 0)\n",
    "    # batchnorm\n",
    "    elif classname.find('BatchNorm') != -1:\n",
    "        nn.init.normal_(model.weight.data, 1.0, 0.02)\n",
    "        nn.init.constant_(model.bias.data, 0)\n",
    "\n",
    "# 가중치 초기화 적용\n",
    "model_gen.apply(initialize_weights);\n",
    "model_dis.apply(initialize_weights);"
   ],
   "execution_count": 9,
   "outputs": []
  },
  {
   "cell_type": "markdown",
   "metadata": {
    "id": "aJdMBc0wqKzw",
    "pycharm": {
     "name": "#%% md\n"
    }
   },
   "source": [
    "# 3. 학습하기"
   ]
  },
  {
   "cell_type": "code",
   "metadata": {
    "id": "uykVj7nhpq7u",
    "pycharm": {
     "name": "#%%\n"
    }
   },
   "source": [
    "# 손실 함수\n",
    "loss_func = nn.BCELoss()"
   ],
   "execution_count": 10,
   "outputs": []
  },
  {
   "cell_type": "code",
   "metadata": {
    "id": "AC4r8RVHsF8c",
    "pycharm": {
     "name": "#%%\n"
    }
   },
   "source": [
    "from torch import optim\n",
    "\n",
    "# 최적화 파라미터\n",
    "lr = 2e-4\n",
    "beta1 = 0.5\n",
    "\n",
    "opt_dis = optim.Adam(model_dis.parameters(),lr=lr,betas=(beta1,0.999))\n",
    "opt_gen = optim.Adam(model_gen.parameters(),lr=lr,betas=(beta1,0.999))"
   ],
   "execution_count": 11,
   "outputs": []
  },
  {
   "cell_type": "code",
   "metadata": {
    "id": "ofBe2ekcsRgy",
    "pycharm": {
     "name": "#%%\n"
    }
   },
   "source": [
    "real_label = 1.\n",
    "fake_label = 0.\n",
    "nz = params['nz']\n",
    "num_epochs = 100\n",
    "\n",
    "loss_history={'gen':[],\n",
    "              'dis':[]}"
   ],
   "execution_count": 12,
   "outputs": []
  },
  {
   "cell_type": "code",
   "metadata": {
    "colab": {
     "base_uri": "https://localhost:8080/"
    },
    "id": "5clROy9DLqdZ",
    "outputId": "9fcb2191-97ae-4aac-976a-dd0c9f6f7126",
    "pycharm": {
     "name": "#%%\n"
    }
   },
   "source": [
    "batch_count = 0\n",
    "start_time = time.time()\n",
    "model_dis.train()\n",
    "model_gen.train()\n",
    "\n",
    "for epoch in range(num_epochs):\n",
    "    for xb, yb in train_dl:\n",
    "        ba_si = xb.size(0)\n",
    "\n",
    "        xb = xb.to(device)\n",
    "        yb_real = torch.Tensor(ba_si,1).fill_(1.0).to(device)\n",
    "        yb_fake = torch.Tensor(ba_si,1).fill_(0.0).to(device)\n",
    "\n",
    "        # Generator\n",
    "        model_gen.zero_grad()\n",
    "        noise = torch.randn(ba_si,nz, device=device) # 노이즈 생성\n",
    "        out_gen = model_gen(noise) # 가짜 이미지 생성\n",
    "        out_dis = model_dis(out_gen) # 가짜 이미지 판별\n",
    "\n",
    "        loss_gen = loss_func(out_dis, yb_real)\n",
    "        loss_gen.backward()\n",
    "        opt_gen.step()\n",
    "\n",
    "        # Discriminator\n",
    "        model_dis.zero_grad()\n",
    "\n",
    "        out_real = model_dis(xb) # 진짜 이미지 판별\n",
    "        out_fake = model_dis(out_gen.detach()) # 가짜 이미지 판별\n",
    "        loss_real = loss_func(out_real, yb_real)\n",
    "        loss_fake = loss_func(out_fake, yb_fake)\n",
    "        loss_dis = (loss_real + loss_fake) / 2\n",
    "\n",
    "        loss_dis.backward()\n",
    "        opt_dis.step()\n",
    "\n",
    "        loss_history['gen'].append(loss_gen.item())\n",
    "        loss_history['dis'].append(loss_dis.item())\n",
    "\n",
    "        batch_count += 1\n",
    "        if batch_count % 1000 == 0:\n",
    "            print('Epoch: %.0f, G_Loss: %.6f, D_Loss: %.6f, time: %.2f min' %(epoch, loss_gen.item(), loss_dis.item(), (time.time()-start_time)/60))"
   ],
   "execution_count": 13,
   "outputs": [
    {
     "name": "stdout",
     "output_type": "stream",
     "text": [
      "Epoch: 0, G_Loss: 1.449247, D_Loss: 0.229007, time: 0.16 min\n",
      "Epoch: 1, G_Loss: 1.154124, D_Loss: 0.357659, time: 0.33 min\n",
      "Epoch: 1, G_Loss: 1.662992, D_Loss: 0.440045, time: 0.51 min\n",
      "Epoch: 2, G_Loss: 0.958385, D_Loss: 0.353266, time: 0.68 min\n",
      "Epoch: 2, G_Loss: 1.095836, D_Loss: 0.251192, time: 0.86 min\n",
      "Epoch: 3, G_Loss: 4.600883, D_Loss: 0.620631, time: 1.02 min\n",
      "Epoch: 3, G_Loss: 1.313242, D_Loss: 0.240878, time: 1.19 min\n",
      "Epoch: 4, G_Loss: 2.662888, D_Loss: 0.381236, time: 1.36 min\n",
      "Epoch: 4, G_Loss: 1.393924, D_Loss: 0.226488, time: 1.53 min\n",
      "Epoch: 5, G_Loss: 1.303327, D_Loss: 0.241312, time: 1.69 min\n",
      "Epoch: 5, G_Loss: 3.872146, D_Loss: 0.221250, time: 1.86 min\n",
      "Epoch: 6, G_Loss: 4.039084, D_Loss: 0.124792, time: 2.03 min\n",
      "Epoch: 6, G_Loss: 1.892947, D_Loss: 0.246189, time: 2.20 min\n",
      "Epoch: 7, G_Loss: 1.474250, D_Loss: 0.226888, time: 2.37 min\n",
      "Epoch: 7, G_Loss: 3.783985, D_Loss: 0.140003, time: 2.54 min\n",
      "Epoch: 8, G_Loss: 3.543213, D_Loss: 0.209925, time: 2.71 min\n",
      "Epoch: 9, G_Loss: 1.639129, D_Loss: 0.223302, time: 2.87 min\n",
      "Epoch: 9, G_Loss: 0.746141, D_Loss: 0.358377, time: 3.05 min\n",
      "Epoch: 10, G_Loss: 2.816426, D_Loss: 0.057760, time: 3.22 min\n",
      "Epoch: 10, G_Loss: 2.653238, D_Loss: 0.165530, time: 3.39 min\n",
      "Epoch: 11, G_Loss: 6.191020, D_Loss: 0.618106, time: 3.56 min\n",
      "Epoch: 11, G_Loss: 3.083664, D_Loss: 0.102890, time: 3.73 min\n",
      "Epoch: 12, G_Loss: 1.644030, D_Loss: 0.171300, time: 3.90 min\n",
      "Epoch: 12, G_Loss: 1.014285, D_Loss: 0.296642, time: 4.07 min\n",
      "Epoch: 13, G_Loss: 2.911614, D_Loss: 0.144220, time: 4.24 min\n",
      "Epoch: 13, G_Loss: 2.313696, D_Loss: 0.162147, time: 4.40 min\n",
      "Epoch: 14, G_Loss: 2.978786, D_Loss: 0.135173, time: 4.57 min\n",
      "Epoch: 14, G_Loss: 2.468375, D_Loss: 0.194428, time: 4.74 min\n",
      "Epoch: 15, G_Loss: 0.925154, D_Loss: 0.354297, time: 4.91 min\n",
      "Epoch: 15, G_Loss: 3.007415, D_Loss: 0.068477, time: 5.08 min\n",
      "Epoch: 16, G_Loss: 3.522056, D_Loss: 0.040288, time: 5.25 min\n",
      "Epoch: 17, G_Loss: 1.610127, D_Loss: 0.307142, time: 5.42 min\n",
      "Epoch: 17, G_Loss: 2.508863, D_Loss: 0.296526, time: 5.59 min\n",
      "Epoch: 18, G_Loss: 4.650534, D_Loss: 0.313849, time: 5.76 min\n",
      "Epoch: 18, G_Loss: 1.676151, D_Loss: 0.187174, time: 5.93 min\n",
      "Epoch: 19, G_Loss: 3.062977, D_Loss: 0.096520, time: 6.10 min\n",
      "Epoch: 19, G_Loss: 2.706887, D_Loss: 0.190969, time: 6.28 min\n",
      "Epoch: 20, G_Loss: 2.753299, D_Loss: 0.082615, time: 6.44 min\n",
      "Epoch: 20, G_Loss: 8.134481, D_Loss: 0.381907, time: 6.62 min\n",
      "Epoch: 21, G_Loss: 3.677233, D_Loss: 0.076019, time: 6.79 min\n",
      "Epoch: 21, G_Loss: 2.098461, D_Loss: 0.163747, time: 6.96 min\n",
      "Epoch: 22, G_Loss: 2.927986, D_Loss: 0.087943, time: 7.13 min\n",
      "Epoch: 22, G_Loss: 4.106524, D_Loss: 0.090631, time: 7.30 min\n",
      "Epoch: 23, G_Loss: 2.870404, D_Loss: 0.204724, time: 7.47 min\n",
      "Epoch: 23, G_Loss: 2.151328, D_Loss: 0.132836, time: 7.64 min\n",
      "Epoch: 24, G_Loss: 3.680674, D_Loss: 0.095749, time: 7.81 min\n",
      "Epoch: 25, G_Loss: 3.726480, D_Loss: 0.041135, time: 7.98 min\n",
      "Epoch: 25, G_Loss: 3.011242, D_Loss: 0.128032, time: 8.15 min\n",
      "Epoch: 26, G_Loss: 2.707525, D_Loss: 0.140356, time: 8.32 min\n",
      "Epoch: 26, G_Loss: 1.881367, D_Loss: 0.141623, time: 8.49 min\n",
      "Epoch: 27, G_Loss: 4.658805, D_Loss: 0.166990, time: 8.66 min\n",
      "Epoch: 27, G_Loss: 2.671532, D_Loss: 0.236189, time: 8.84 min\n",
      "Epoch: 28, G_Loss: 3.213760, D_Loss: 0.098565, time: 9.00 min\n",
      "Epoch: 28, G_Loss: 0.974454, D_Loss: 0.334646, time: 9.18 min\n",
      "Epoch: 29, G_Loss: 3.151048, D_Loss: 0.226828, time: 9.35 min\n",
      "Epoch: 29, G_Loss: 3.022370, D_Loss: 0.076357, time: 9.52 min\n",
      "Epoch: 30, G_Loss: 3.762556, D_Loss: 0.192193, time: 9.69 min\n",
      "Epoch: 30, G_Loss: 3.447289, D_Loss: 0.101250, time: 9.86 min\n",
      "Epoch: 31, G_Loss: 3.049367, D_Loss: 0.078976, time: 10.03 min\n",
      "Epoch: 31, G_Loss: 3.292579, D_Loss: 0.227375, time: 10.20 min\n",
      "Epoch: 32, G_Loss: 2.297694, D_Loss: 0.228005, time: 10.37 min\n",
      "Epoch: 33, G_Loss: 2.578797, D_Loss: 0.084030, time: 10.54 min\n",
      "Epoch: 33, G_Loss: 3.853631, D_Loss: 0.429282, time: 10.71 min\n",
      "Epoch: 34, G_Loss: 3.515644, D_Loss: 0.189222, time: 10.89 min\n",
      "Epoch: 34, G_Loss: 2.313191, D_Loss: 0.225626, time: 11.06 min\n",
      "Epoch: 35, G_Loss: 3.968578, D_Loss: 0.162519, time: 11.23 min\n",
      "Epoch: 35, G_Loss: 3.930806, D_Loss: 0.162346, time: 11.40 min\n",
      "Epoch: 36, G_Loss: 2.340953, D_Loss: 0.226839, time: 11.57 min\n",
      "Epoch: 36, G_Loss: 3.088059, D_Loss: 0.063834, time: 11.74 min\n",
      "Epoch: 37, G_Loss: 2.741578, D_Loss: 0.249941, time: 11.91 min\n",
      "Epoch: 37, G_Loss: 4.123251, D_Loss: 0.077618, time: 12.08 min\n",
      "Epoch: 38, G_Loss: 2.920105, D_Loss: 0.081691, time: 12.25 min\n",
      "Epoch: 38, G_Loss: 2.685825, D_Loss: 0.120408, time: 12.42 min\n",
      "Epoch: 39, G_Loss: 3.203091, D_Loss: 0.080046, time: 12.60 min\n",
      "Epoch: 39, G_Loss: 2.940904, D_Loss: 0.231101, time: 12.77 min\n",
      "Epoch: 40, G_Loss: 3.474898, D_Loss: 0.160244, time: 12.94 min\n",
      "Epoch: 41, G_Loss: 5.221096, D_Loss: 0.244445, time: 13.11 min\n",
      "Epoch: 41, G_Loss: 2.597291, D_Loss: 0.184227, time: 13.29 min\n",
      "Epoch: 42, G_Loss: 2.422977, D_Loss: 0.141865, time: 13.46 min\n",
      "Epoch: 42, G_Loss: 2.044318, D_Loss: 0.171848, time: 13.63 min\n",
      "Epoch: 43, G_Loss: 0.920664, D_Loss: 0.544479, time: 13.80 min\n",
      "Epoch: 43, G_Loss: 3.174506, D_Loss: 0.131274, time: 13.97 min\n",
      "Epoch: 44, G_Loss: 3.899851, D_Loss: 0.191253, time: 14.14 min\n",
      "Epoch: 44, G_Loss: 1.812004, D_Loss: 0.158768, time: 14.31 min\n",
      "Epoch: 45, G_Loss: 3.130988, D_Loss: 0.325709, time: 14.48 min\n",
      "Epoch: 45, G_Loss: 3.129671, D_Loss: 0.124752, time: 14.66 min\n",
      "Epoch: 46, G_Loss: 2.222125, D_Loss: 0.237360, time: 14.83 min\n",
      "Epoch: 46, G_Loss: 3.118931, D_Loss: 0.292764, time: 15.00 min\n",
      "Epoch: 47, G_Loss: 2.131512, D_Loss: 0.220754, time: 15.17 min\n",
      "Epoch: 47, G_Loss: 3.105985, D_Loss: 0.238902, time: 15.34 min\n",
      "Epoch: 48, G_Loss: 2.677148, D_Loss: 0.217393, time: 15.51 min\n",
      "Epoch: 49, G_Loss: 1.785890, D_Loss: 0.205345, time: 15.69 min\n",
      "Epoch: 49, G_Loss: 2.649558, D_Loss: 0.173767, time: 15.86 min\n",
      "Epoch: 50, G_Loss: 3.629999, D_Loss: 0.079211, time: 16.03 min\n",
      "Epoch: 50, G_Loss: 4.338269, D_Loss: 0.226847, time: 16.20 min\n",
      "Epoch: 51, G_Loss: 1.722924, D_Loss: 0.185143, time: 16.37 min\n",
      "Epoch: 51, G_Loss: 2.191884, D_Loss: 0.292921, time: 16.54 min\n",
      "Epoch: 52, G_Loss: 3.931146, D_Loss: 0.080503, time: 16.72 min\n",
      "Epoch: 52, G_Loss: 4.844826, D_Loss: 0.218130, time: 16.89 min\n",
      "Epoch: 53, G_Loss: 2.897815, D_Loss: 0.337411, time: 17.06 min\n",
      "Epoch: 53, G_Loss: 4.422929, D_Loss: 0.020154, time: 17.24 min\n",
      "Epoch: 54, G_Loss: 2.878295, D_Loss: 0.109919, time: 17.41 min\n",
      "Epoch: 54, G_Loss: 2.977824, D_Loss: 0.120835, time: 17.58 min\n",
      "Epoch: 55, G_Loss: 3.133466, D_Loss: 0.104732, time: 17.75 min\n",
      "Epoch: 55, G_Loss: 4.194065, D_Loss: 0.200679, time: 17.92 min\n",
      "Epoch: 56, G_Loss: 2.021785, D_Loss: 0.165518, time: 18.09 min\n",
      "Epoch: 57, G_Loss: 3.810578, D_Loss: 0.122229, time: 18.26 min\n",
      "Epoch: 57, G_Loss: 4.651609, D_Loss: 0.135589, time: 18.44 min\n",
      "Epoch: 58, G_Loss: 3.868205, D_Loss: 0.055333, time: 18.61 min\n",
      "Epoch: 58, G_Loss: 2.867441, D_Loss: 0.092982, time: 18.78 min\n",
      "Epoch: 59, G_Loss: 3.357108, D_Loss: 0.121122, time: 18.95 min\n",
      "Epoch: 59, G_Loss: 0.724427, D_Loss: 0.594184, time: 19.12 min\n",
      "Epoch: 60, G_Loss: 3.088492, D_Loss: 0.141166, time: 19.29 min\n",
      "Epoch: 60, G_Loss: 2.436085, D_Loss: 0.233017, time: 19.46 min\n",
      "Epoch: 61, G_Loss: 2.887827, D_Loss: 0.109034, time: 19.64 min\n",
      "Epoch: 61, G_Loss: 3.072366, D_Loss: 0.049679, time: 19.81 min\n",
      "Epoch: 62, G_Loss: 2.474747, D_Loss: 0.221790, time: 19.98 min\n",
      "Epoch: 62, G_Loss: 3.700732, D_Loss: 0.297658, time: 20.15 min\n",
      "Epoch: 63, G_Loss: 4.173534, D_Loss: 0.098161, time: 20.32 min\n",
      "Epoch: 63, G_Loss: 3.122467, D_Loss: 0.045021, time: 20.50 min\n",
      "Epoch: 64, G_Loss: 6.034328, D_Loss: 0.052952, time: 20.67 min\n",
      "Epoch: 65, G_Loss: 2.578302, D_Loss: 0.093512, time: 20.84 min\n",
      "Epoch: 65, G_Loss: 2.613247, D_Loss: 0.076803, time: 21.01 min\n",
      "Epoch: 66, G_Loss: 3.870772, D_Loss: 0.104247, time: 21.18 min\n",
      "Epoch: 66, G_Loss: 4.293629, D_Loss: 0.168203, time: 21.36 min\n",
      "Epoch: 67, G_Loss: 2.969463, D_Loss: 0.227625, time: 21.53 min\n",
      "Epoch: 67, G_Loss: 3.006947, D_Loss: 0.150423, time: 21.70 min\n",
      "Epoch: 68, G_Loss: 2.976300, D_Loss: 0.108940, time: 21.87 min\n",
      "Epoch: 68, G_Loss: 3.309046, D_Loss: 0.347368, time: 22.04 min\n",
      "Epoch: 69, G_Loss: 4.558063, D_Loss: 0.501975, time: 22.22 min\n",
      "Epoch: 69, G_Loss: 2.822851, D_Loss: 0.073492, time: 22.39 min\n",
      "Epoch: 70, G_Loss: 3.284651, D_Loss: 0.332102, time: 22.56 min\n",
      "Epoch: 70, G_Loss: 2.695755, D_Loss: 0.153761, time: 22.73 min\n",
      "Epoch: 71, G_Loss: 4.073263, D_Loss: 0.121037, time: 22.90 min\n",
      "Epoch: 71, G_Loss: 2.957086, D_Loss: 0.212781, time: 23.08 min\n",
      "Epoch: 72, G_Loss: 3.525312, D_Loss: 0.124556, time: 23.25 min\n",
      "Epoch: 73, G_Loss: 3.577361, D_Loss: 0.114176, time: 23.42 min\n",
      "Epoch: 73, G_Loss: 2.753073, D_Loss: 0.082148, time: 23.59 min\n",
      "Epoch: 74, G_Loss: 1.929817, D_Loss: 0.364978, time: 23.77 min\n",
      "Epoch: 74, G_Loss: 4.107927, D_Loss: 0.053358, time: 23.94 min\n",
      "Epoch: 75, G_Loss: 3.570627, D_Loss: 0.174704, time: 24.11 min\n",
      "Epoch: 75, G_Loss: 3.677337, D_Loss: 0.118806, time: 24.28 min\n",
      "Epoch: 76, G_Loss: 2.460410, D_Loss: 0.084270, time: 24.46 min\n",
      "Epoch: 76, G_Loss: 3.071586, D_Loss: 0.162329, time: 24.63 min\n",
      "Epoch: 77, G_Loss: 4.282389, D_Loss: 0.195836, time: 24.80 min\n",
      "Epoch: 77, G_Loss: 2.604691, D_Loss: 0.271491, time: 24.97 min\n",
      "Epoch: 78, G_Loss: 2.086193, D_Loss: 0.300639, time: 25.14 min\n",
      "Epoch: 78, G_Loss: 3.778069, D_Loss: 0.046652, time: 25.31 min\n",
      "Epoch: 79, G_Loss: 3.647913, D_Loss: 0.045159, time: 25.49 min\n",
      "Epoch: 79, G_Loss: 3.648967, D_Loss: 0.083432, time: 25.66 min\n",
      "Epoch: 80, G_Loss: 2.293496, D_Loss: 0.113189, time: 25.83 min\n",
      "Epoch: 81, G_Loss: 3.724490, D_Loss: 0.158803, time: 26.00 min\n",
      "Epoch: 81, G_Loss: 3.978876, D_Loss: 0.052151, time: 26.18 min\n",
      "Epoch: 82, G_Loss: 3.955167, D_Loss: 0.102360, time: 26.35 min\n",
      "Epoch: 82, G_Loss: 3.658990, D_Loss: 0.088589, time: 26.52 min\n",
      "Epoch: 83, G_Loss: 3.667831, D_Loss: 0.056505, time: 26.69 min\n",
      "Epoch: 83, G_Loss: 4.194511, D_Loss: 0.078574, time: 26.87 min\n",
      "Epoch: 84, G_Loss: 3.274569, D_Loss: 0.105657, time: 27.04 min\n",
      "Epoch: 84, G_Loss: 2.927271, D_Loss: 0.177269, time: 27.21 min\n",
      "Epoch: 85, G_Loss: 4.304214, D_Loss: 0.563673, time: 27.38 min\n",
      "Epoch: 85, G_Loss: 6.516697, D_Loss: 0.208750, time: 27.56 min\n",
      "Epoch: 86, G_Loss: 2.696826, D_Loss: 0.230418, time: 27.72 min\n",
      "Epoch: 86, G_Loss: 3.914454, D_Loss: 0.238658, time: 27.89 min\n",
      "Epoch: 87, G_Loss: 3.659891, D_Loss: 0.147802, time: 28.06 min\n",
      "Epoch: 87, G_Loss: 3.301977, D_Loss: 0.134426, time: 28.23 min\n",
      "Epoch: 88, G_Loss: 5.072661, D_Loss: 0.091757, time: 28.40 min\n",
      "Epoch: 89, G_Loss: 4.271746, D_Loss: 0.044554, time: 28.56 min\n",
      "Epoch: 89, G_Loss: 3.102091, D_Loss: 0.054708, time: 28.73 min\n",
      "Epoch: 90, G_Loss: 2.873506, D_Loss: 0.091386, time: 28.90 min\n",
      "Epoch: 90, G_Loss: 2.305210, D_Loss: 0.166845, time: 29.07 min\n",
      "Epoch: 91, G_Loss: 5.263157, D_Loss: 0.354772, time: 29.24 min\n",
      "Epoch: 91, G_Loss: 3.357066, D_Loss: 0.239248, time: 29.41 min\n",
      "Epoch: 92, G_Loss: 3.671802, D_Loss: 0.046289, time: 29.57 min\n",
      "Epoch: 92, G_Loss: 1.724174, D_Loss: 0.194146, time: 29.74 min\n",
      "Epoch: 93, G_Loss: 4.212150, D_Loss: 0.041556, time: 29.91 min\n",
      "Epoch: 93, G_Loss: 4.101973, D_Loss: 0.088442, time: 30.08 min\n",
      "Epoch: 94, G_Loss: 3.328240, D_Loss: 0.220029, time: 30.25 min\n",
      "Epoch: 94, G_Loss: 3.318721, D_Loss: 0.039609, time: 30.42 min\n",
      "Epoch: 95, G_Loss: 3.536031, D_Loss: 0.286916, time: 30.59 min\n",
      "Epoch: 95, G_Loss: 4.835233, D_Loss: 0.157101, time: 30.75 min\n",
      "Epoch: 96, G_Loss: 5.362576, D_Loss: 0.175169, time: 30.92 min\n",
      "Epoch: 97, G_Loss: 2.970609, D_Loss: 0.212285, time: 31.09 min\n",
      "Epoch: 97, G_Loss: 3.333855, D_Loss: 0.122670, time: 31.26 min\n",
      "Epoch: 98, G_Loss: 3.128678, D_Loss: 0.170313, time: 31.43 min\n",
      "Epoch: 98, G_Loss: 3.135556, D_Loss: 0.096564, time: 31.59 min\n",
      "Epoch: 99, G_Loss: 3.536669, D_Loss: 0.094076, time: 31.76 min\n",
      "Epoch: 99, G_Loss: 2.957681, D_Loss: 0.083041, time: 31.93 min\n"
     ]
    }
   ]
  },
  {
   "cell_type": "code",
   "metadata": {
    "colab": {
     "base_uri": "https://localhost:8080/",
     "height": 350
    },
    "id": "06z0hdr1y5DZ",
    "outputId": "7473c5c4-8ea6-4d2d-c600-3acd7bc0e43a",
    "pycharm": {
     "name": "#%%\n"
    }
   },
   "source": [
    "# plot loss history\n",
    "plt.figure(figsize=(10,5))\n",
    "plt.title('Loss Progress')\n",
    "plt.plot(loss_history['gen'], label='Gen. Loss')\n",
    "plt.plot(loss_history['dis'], label='Dis. Loss')\n",
    "plt.xlabel('batch count')\n",
    "plt.ylabel('Loss')\n",
    "plt.legend()\n",
    "plt.show()"
   ],
   "execution_count": 14,
   "outputs": [
    {
     "data": {
      "text/plain": "<Figure size 720x360 with 1 Axes>",
      "image/png": "[encoded data removed]"
     },
     "metadata": {
      "needs_background": "light"
     },
     "output_type": "display_data"
    }
   ]
  },
  {
   "cell_type": "code",
   "metadata": {
    "id": "81QXiRat9HSW",
    "pycharm": {
     "name": "#%%\n"
    }
   },
   "source": [
    "# 가중치 저장\n",
    "path2models = './models/'\n",
    "os.makedirs(path2models, exist_ok=True)\n",
    "path2weights_gen = os.path.join(path2models, 'weights_gen.pt')\n",
    "path2weights_dis = os.path.join(path2models, 'weights_dis.pt')\n",
    "\n",
    "torch.save(model_gen.state_dict(), path2weights_gen)\n",
    "torch.save(model_dis.state_dict(), path2weights_dis)"
   ],
   "execution_count": 15,
   "outputs": []
  },
  {
   "cell_type": "markdown",
   "metadata": {
    "id": "Hjbu0upa9Cud",
    "pycharm": {
     "name": "#%% md\n"
    }
   },
   "source": [
    "# 4. Generator이 생성한 이미지 확인"
   ]
  },
  {
   "cell_type": "code",
   "metadata": {
    "colab": {
     "base_uri": "https://localhost:8080/"
    },
    "id": "YQ7LcgQt8-vA",
    "outputId": "a7b8db68-7e88-404e-9682-02ee7df49fe4",
    "pycharm": {
     "name": "#%%\n"
    }
   },
   "source": [
    "# 가중치 불러오기\n",
    "weights = torch.load(path2weights_gen)\n",
    "model_gen.load_state_dict(weights)\n",
    "\n",
    "# evaluation mode\n",
    "model_gen.eval()\n",
    "\n",
    "# 가짜 이미지 생성\n",
    "with torch.no_grad():\n",
    "    fixed_noise = torch.randn(16, 100, device=device)\n",
    "    img_fake = model_gen(fixed_noise).detach().cpu()\n",
    "print(img_fake.shape)"
   ],
   "execution_count": 16,
   "outputs": [
    {
     "name": "stdout",
     "output_type": "stream",
     "text": [
      "torch.Size([16, 1, 28, 28])\n"
     ]
    }
   ]
  },
  {
   "cell_type": "code",
   "metadata": {
    "colab": {
     "base_uri": "https://localhost:8080/",
     "height": 575
    },
    "id": "UQ9aR5Ku91ct",
    "outputId": "51850595-5748-4cd4-f509-d737106e1465",
    "pycharm": {
     "name": "#%%\n"
    }
   },
   "source": [
    "# 가짜 이미지 시각화\n",
    "plt.figure(figsize=(10,10))\n",
    "for ii in range(16):\n",
    "    plt.subplot(4,4,ii+1)\n",
    "    plt.imshow(to_pil_image(0.5*img_fake[ii]+0.5),cmap='gray')\n",
    "    plt.axis('off')"
   ],
   "execution_count": 17,
   "outputs": [
    {
     "data": {
      "text/plain": "<Figure size 720x720 with 16 Axes>",
      "image/png": "[encoded data removed]"
     },
     "metadata": {
      "needs_background": "light"
     },
     "output_type": "display_data"
    }
   ]
  },
  {
   "cell_type": "code",
   "metadata": {
    "id": "LeRy_L_a-QEr",
    "pycharm": {
     "name": "#%%\n"
    }
   },
   "source": [],
   "execution_count": null,
   "outputs": []
  }
 ]
}